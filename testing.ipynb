{
 "cells": [
  {
   "cell_type": "code",
   "execution_count": 1,
   "id": "d592faca-ac4d-46db-b1aa-25661a58c8c3",
   "metadata": {},
   "outputs": [],
   "source": [
    "import pandas as pd\n",
    "\n",
    "import apache_beam as beam\n",
    "from apache_beam.io import WriteToBigQuery\n",
    "from apache_beam.io.gcp.gcsio import GcsIO\n",
    "from apache_beam.io.filebasedsource import FileBasedSource\n",
    "\n",
    "import datetime"
   ]
  },
  {
   "cell_type": "code",
   "execution_count": 2,
   "id": "dad2af15-c1ea-48a0-88d0-816014d80dcc",
   "metadata": {},
   "outputs": [],
   "source": [
    "PROJECT_ID = 'assetinsure-surety-data-models'\n",
    "BUCKET = 'gs://surety-data-models'\n",
    "TABLE_SPEC = f'{PROJECT_ID}.ls_panthers_test.panters-test-table-1' # check if . or : between project ID and dataset"
   ]
  },
  {
   "cell_type": "code",
   "execution_count": 3,
   "id": "aa429a46-6407-4755-b745-91b36e2df260",
   "metadata": {},
   "outputs": [],
   "source": [
    "table_schema = {\n",
    "        'fields': [\n",
    "            {'name': 'ID', 'type': 'NUMERIC'},\n",
    "            {'name': 'CompanyName', 'type': 'STRING'},\n",
    "            {'name': 'Date', 'type': 'DATETIME'}\n",
    "        ]\n",
    "    }"
   ]
  },
  {
   "cell_type": "code",
   "execution_count": 69,
   "id": "93335015-b154-4c1e-a736-82674ef20203",
   "metadata": {},
   "outputs": [
    {
     "data": {
      "text/html": [
       "<div>\n",
       "<style scoped>\n",
       "    .dataframe tbody tr th:only-of-type {\n",
       "        vertical-align: middle;\n",
       "    }\n",
       "\n",
       "    .dataframe tbody tr th {\n",
       "        vertical-align: top;\n",
       "    }\n",
       "\n",
       "    .dataframe thead th {\n",
       "        text-align: right;\n",
       "    }\n",
       "</style>\n",
       "<table border=\"1\" class=\"dataframe\">\n",
       "  <thead>\n",
       "    <tr style=\"text-align: right;\">\n",
       "      <th></th>\n",
       "      <th>number</th>\n",
       "      <th>name</th>\n",
       "      <th>date</th>\n",
       "      <th>value</th>\n",
       "      <th>boolean</th>\n",
       "    </tr>\n",
       "  </thead>\n",
       "  <tbody>\n",
       "    <tr>\n",
       "      <th>0</th>\n",
       "      <td>101</td>\n",
       "      <td>test</td>\n",
       "      <td>2023-08-02</td>\n",
       "      <td>200.45</td>\n",
       "      <td>False</td>\n",
       "    </tr>\n",
       "    <tr>\n",
       "      <th>1</th>\n",
       "      <td>102</td>\n",
       "      <td>Real Test</td>\n",
       "      <td>2023-01-05</td>\n",
       "      <td>3095452.85</td>\n",
       "      <td>False</td>\n",
       "    </tr>\n",
       "    <tr>\n",
       "      <th>2</th>\n",
       "      <td>103</td>\n",
       "      <td>Final</td>\n",
       "      <td>2021-06-09</td>\n",
       "      <td>287.11</td>\n",
       "      <td>True</td>\n",
       "    </tr>\n",
       "  </tbody>\n",
       "</table>\n",
       "</div>"
      ],
      "text/plain": [
       "   number       name       date       value  boolean\n",
       "0     101       test 2023-08-02      200.45    False\n",
       "1     102  Real Test 2023-01-05  3095452.85    False\n",
       "2     103      Final 2021-06-09      287.11     True"
      ]
     },
     "execution_count": 69,
     "metadata": {},
     "output_type": "execute_result"
    }
   ],
   "source": [
    "new_df = pd.read_excel(\"Book.xlsm\")\n",
    "new_df.head()"
   ]
  },
  {
   "cell_type": "code",
   "execution_count": 70,
   "id": "17a42b7b-2ebf-4f1e-87f1-724409c7e775",
   "metadata": {},
   "outputs": [
    {
     "data": {
      "text/plain": [
       "number              int64\n",
       "name               object\n",
       "date       datetime64[ns]\n",
       "value             float64\n",
       "boolean              bool\n",
       "dtype: object"
      ]
     },
     "execution_count": 70,
     "metadata": {},
     "output_type": "execute_result"
    }
   ],
   "source": [
    "new_df.dtypes"
   ]
  },
  {
   "cell_type": "code",
   "execution_count": 71,
   "id": "81dc7d3d-9d3a-4cfb-b456-41f49198dddd",
   "metadata": {},
   "outputs": [
    {
     "ename": "KeyError",
     "evalue": "'col1'",
     "output_type": "error",
     "traceback": [
      "\u001b[0;31m---------------------------------------------------------------------------\u001b[0m",
      "\u001b[0;31mKeyError\u001b[0m                                  Traceback (most recent call last)",
      "File \u001b[0;32m~/explore/fs/assetinsure/surity_pipeline/surity-pipeline/env/lib/python3.9/site-packages/pandas/core/indexes/base.py:3790\u001b[0m, in \u001b[0;36mIndex.get_loc\u001b[0;34m(self, key)\u001b[0m\n\u001b[1;32m   3789\u001b[0m \u001b[38;5;28;01mtry\u001b[39;00m:\n\u001b[0;32m-> 3790\u001b[0m     \u001b[38;5;28;01mreturn\u001b[39;00m \u001b[38;5;28;43mself\u001b[39;49m\u001b[38;5;241;43m.\u001b[39;49m\u001b[43m_engine\u001b[49m\u001b[38;5;241;43m.\u001b[39;49m\u001b[43mget_loc\u001b[49m\u001b[43m(\u001b[49m\u001b[43mcasted_key\u001b[49m\u001b[43m)\u001b[49m\n\u001b[1;32m   3791\u001b[0m \u001b[38;5;28;01mexcept\u001b[39;00m \u001b[38;5;167;01mKeyError\u001b[39;00m \u001b[38;5;28;01mas\u001b[39;00m err:\n",
      "File \u001b[0;32mindex.pyx:152\u001b[0m, in \u001b[0;36mpandas._libs.index.IndexEngine.get_loc\u001b[0;34m()\u001b[0m\n",
      "File \u001b[0;32mindex.pyx:181\u001b[0m, in \u001b[0;36mpandas._libs.index.IndexEngine.get_loc\u001b[0;34m()\u001b[0m\n",
      "File \u001b[0;32mpandas/_libs/hashtable_class_helper.pxi:7080\u001b[0m, in \u001b[0;36mpandas._libs.hashtable.PyObjectHashTable.get_item\u001b[0;34m()\u001b[0m\n",
      "File \u001b[0;32mpandas/_libs/hashtable_class_helper.pxi:7088\u001b[0m, in \u001b[0;36mpandas._libs.hashtable.PyObjectHashTable.get_item\u001b[0;34m()\u001b[0m\n",
      "\u001b[0;31mKeyError\u001b[0m: 'col1'",
      "\nThe above exception was the direct cause of the following exception:\n",
      "\u001b[0;31mKeyError\u001b[0m                                  Traceback (most recent call last)",
      "Cell \u001b[0;32mIn[71], line 1\u001b[0m\n\u001b[0;32m----> 1\u001b[0m pd\u001b[38;5;241m.\u001b[39mto_datetime(\u001b[43mdf\u001b[49m\u001b[43m[\u001b[49m\u001b[38;5;124;43m'\u001b[39;49m\u001b[38;5;124;43mcol1\u001b[39;49m\u001b[38;5;124;43m'\u001b[39;49m\u001b[43m]\u001b[49m)\n",
      "File \u001b[0;32m~/explore/fs/assetinsure/surity_pipeline/surity-pipeline/env/lib/python3.9/site-packages/pandas/core/frame.py:3896\u001b[0m, in \u001b[0;36mDataFrame.__getitem__\u001b[0;34m(self, key)\u001b[0m\n\u001b[1;32m   3894\u001b[0m \u001b[38;5;28;01mif\u001b[39;00m \u001b[38;5;28mself\u001b[39m\u001b[38;5;241m.\u001b[39mcolumns\u001b[38;5;241m.\u001b[39mnlevels \u001b[38;5;241m>\u001b[39m \u001b[38;5;241m1\u001b[39m:\n\u001b[1;32m   3895\u001b[0m     \u001b[38;5;28;01mreturn\u001b[39;00m \u001b[38;5;28mself\u001b[39m\u001b[38;5;241m.\u001b[39m_getitem_multilevel(key)\n\u001b[0;32m-> 3896\u001b[0m indexer \u001b[38;5;241m=\u001b[39m \u001b[38;5;28;43mself\u001b[39;49m\u001b[38;5;241;43m.\u001b[39;49m\u001b[43mcolumns\u001b[49m\u001b[38;5;241;43m.\u001b[39;49m\u001b[43mget_loc\u001b[49m\u001b[43m(\u001b[49m\u001b[43mkey\u001b[49m\u001b[43m)\u001b[49m\n\u001b[1;32m   3897\u001b[0m \u001b[38;5;28;01mif\u001b[39;00m is_integer(indexer):\n\u001b[1;32m   3898\u001b[0m     indexer \u001b[38;5;241m=\u001b[39m [indexer]\n",
      "File \u001b[0;32m~/explore/fs/assetinsure/surity_pipeline/surity-pipeline/env/lib/python3.9/site-packages/pandas/core/indexes/base.py:3797\u001b[0m, in \u001b[0;36mIndex.get_loc\u001b[0;34m(self, key)\u001b[0m\n\u001b[1;32m   3792\u001b[0m     \u001b[38;5;28;01mif\u001b[39;00m \u001b[38;5;28misinstance\u001b[39m(casted_key, \u001b[38;5;28mslice\u001b[39m) \u001b[38;5;129;01mor\u001b[39;00m (\n\u001b[1;32m   3793\u001b[0m         \u001b[38;5;28misinstance\u001b[39m(casted_key, abc\u001b[38;5;241m.\u001b[39mIterable)\n\u001b[1;32m   3794\u001b[0m         \u001b[38;5;129;01mand\u001b[39;00m \u001b[38;5;28many\u001b[39m(\u001b[38;5;28misinstance\u001b[39m(x, \u001b[38;5;28mslice\u001b[39m) \u001b[38;5;28;01mfor\u001b[39;00m x \u001b[38;5;129;01min\u001b[39;00m casted_key)\n\u001b[1;32m   3795\u001b[0m     ):\n\u001b[1;32m   3796\u001b[0m         \u001b[38;5;28;01mraise\u001b[39;00m InvalidIndexError(key)\n\u001b[0;32m-> 3797\u001b[0m     \u001b[38;5;28;01mraise\u001b[39;00m \u001b[38;5;167;01mKeyError\u001b[39;00m(key) \u001b[38;5;28;01mfrom\u001b[39;00m \u001b[38;5;21;01merr\u001b[39;00m\n\u001b[1;32m   3798\u001b[0m \u001b[38;5;28;01mexcept\u001b[39;00m \u001b[38;5;167;01mTypeError\u001b[39;00m:\n\u001b[1;32m   3799\u001b[0m     \u001b[38;5;66;03m# If we have a listlike key, _check_indexing_error will raise\u001b[39;00m\n\u001b[1;32m   3800\u001b[0m     \u001b[38;5;66;03m#  InvalidIndexError. Otherwise we fall through and re-raise\u001b[39;00m\n\u001b[1;32m   3801\u001b[0m     \u001b[38;5;66;03m#  the TypeError.\u001b[39;00m\n\u001b[1;32m   3802\u001b[0m     \u001b[38;5;28mself\u001b[39m\u001b[38;5;241m.\u001b[39m_check_indexing_error(key)\n",
      "\u001b[0;31mKeyError\u001b[0m: 'col1'"
     ]
    }
   ],
   "source": [
    "pd.to_datetime(df['col1'])"
   ]
  },
  {
   "cell_type": "code",
   "execution_count": 72,
   "id": "00186ae1-47b1-4ea8-818a-be32ea5e424f",
   "metadata": {},
   "outputs": [
    {
     "data": {
      "text/html": [
       "<div>\n",
       "<style scoped>\n",
       "    .dataframe tbody tr th:only-of-type {\n",
       "        vertical-align: middle;\n",
       "    }\n",
       "\n",
       "    .dataframe tbody tr th {\n",
       "        vertical-align: top;\n",
       "    }\n",
       "\n",
       "    .dataframe thead th {\n",
       "        text-align: right;\n",
       "    }\n",
       "</style>\n",
       "<table border=\"1\" class=\"dataframe\">\n",
       "  <thead>\n",
       "    <tr style=\"text-align: right;\">\n",
       "      <th></th>\n",
       "      <th>number</th>\n",
       "      <th>name</th>\n",
       "      <th>date</th>\n",
       "      <th>value</th>\n",
       "      <th>boolean</th>\n",
       "      <th>timestamp</th>\n",
       "    </tr>\n",
       "  </thead>\n",
       "  <tbody>\n",
       "    <tr>\n",
       "      <th>0</th>\n",
       "      <td>101</td>\n",
       "      <td>test</td>\n",
       "      <td>2023-08-02</td>\n",
       "      <td>200.45</td>\n",
       "      <td>False</td>\n",
       "      <td>2023-09-20 18:49:59.834394</td>\n",
       "    </tr>\n",
       "    <tr>\n",
       "      <th>1</th>\n",
       "      <td>102</td>\n",
       "      <td>Real Test</td>\n",
       "      <td>2023-01-05</td>\n",
       "      <td>3095452.85</td>\n",
       "      <td>False</td>\n",
       "      <td>2023-09-20 18:49:59.834394</td>\n",
       "    </tr>\n",
       "    <tr>\n",
       "      <th>2</th>\n",
       "      <td>103</td>\n",
       "      <td>Final</td>\n",
       "      <td>2021-06-09</td>\n",
       "      <td>287.11</td>\n",
       "      <td>True</td>\n",
       "      <td>2023-09-20 18:49:59.834394</td>\n",
       "    </tr>\n",
       "  </tbody>\n",
       "</table>\n",
       "</div>"
      ],
      "text/plain": [
       "   number       name       date       value  boolean  \\\n",
       "0     101       test 2023-08-02      200.45    False   \n",
       "1     102  Real Test 2023-01-05  3095452.85    False   \n",
       "2     103      Final 2021-06-09      287.11     True   \n",
       "\n",
       "                   timestamp  \n",
       "0 2023-09-20 18:49:59.834394  \n",
       "1 2023-09-20 18:49:59.834394  \n",
       "2 2023-09-20 18:49:59.834394  "
      ]
     },
     "execution_count": 72,
     "metadata": {},
     "output_type": "execute_result"
    }
   ],
   "source": [
    "new_df[\"timestamp\"] = datetime.datetime.now()\n",
    "new_df"
   ]
  },
  {
   "cell_type": "code",
   "execution_count": 73,
   "id": "c47d52f8-ef21-4041-a3af-6013d405a787",
   "metadata": {},
   "outputs": [
    {
     "data": {
      "text/plain": [
       "number                int64\n",
       "name                 object\n",
       "date         datetime64[ns]\n",
       "value               float64\n",
       "boolean                bool\n",
       "timestamp    datetime64[us]\n",
       "dtype: object"
      ]
     },
     "execution_count": 73,
     "metadata": {},
     "output_type": "execute_result"
    }
   ],
   "source": [
    "new_df.dtypes"
   ]
  },
  {
   "cell_type": "code",
   "execution_count": 25,
   "id": "8cd0ea70-e697-4a45-81db-71faa5582c5d",
   "metadata": {},
   "outputs": [],
   "source": [
    "file_name = f\"{BUCKET}/input/Panthers Financial Model Oct-22.xlsm\"\n",
    "with GcsIO().open(file_name) as f:\n",
    "            df = pd.read_excel(f)"
   ]
  },
  {
   "cell_type": "code",
   "execution_count": 5,
   "id": "549df073-4c2a-4530-83d7-073717097a7f",
   "metadata": {},
   "outputs": [
    {
     "data": {
      "text/html": [
       "<div>\n",
       "<style scoped>\n",
       "    .dataframe tbody tr th:only-of-type {\n",
       "        vertical-align: middle;\n",
       "    }\n",
       "\n",
       "    .dataframe tbody tr th {\n",
       "        vertical-align: top;\n",
       "    }\n",
       "\n",
       "    .dataframe thead th {\n",
       "        text-align: right;\n",
       "    }\n",
       "</style>\n",
       "<table border=\"1\" class=\"dataframe\">\n",
       "  <thead>\n",
       "    <tr style=\"text-align: right;\">\n",
       "      <th></th>\n",
       "      <th>Unnamed: 0</th>\n",
       "      <th>Unnamed: 1</th>\n",
       "      <th>Unnamed: 2</th>\n",
       "      <th>Unnamed: 3</th>\n",
       "      <th>Unnamed: 4</th>\n",
       "      <th>Unnamed: 5</th>\n",
       "      <th>Unnamed: 6</th>\n",
       "      <th>Unnamed: 7</th>\n",
       "      <th>Unnamed: 8</th>\n",
       "      <th>Unnamed: 9</th>\n",
       "      <th>...</th>\n",
       "      <th>Unnamed: 246</th>\n",
       "      <th>Unnamed: 247</th>\n",
       "      <th>Unnamed: 248</th>\n",
       "      <th>Unnamed: 249</th>\n",
       "      <th>Unnamed: 250</th>\n",
       "      <th>Unnamed: 251</th>\n",
       "      <th>Unnamed: 252</th>\n",
       "      <th>Unnamed: 253</th>\n",
       "      <th>Unnamed: 254</th>\n",
       "      <th>Unnamed: 255</th>\n",
       "    </tr>\n",
       "  </thead>\n",
       "  <tbody>\n",
       "    <tr>\n",
       "      <th>0</th>\n",
       "      <td>NaN</td>\n",
       "      <td>NaN</td>\n",
       "      <td>NaN</td>\n",
       "      <td>NaN</td>\n",
       "      <td>NaN</td>\n",
       "      <td>NaN</td>\n",
       "      <td>NaN</td>\n",
       "      <td>NaN</td>\n",
       "      <td>NaN</td>\n",
       "      <td>NaN</td>\n",
       "      <td>...</td>\n",
       "      <td>NaN</td>\n",
       "      <td>NaN</td>\n",
       "      <td>NaN</td>\n",
       "      <td>NaN</td>\n",
       "      <td>NaN</td>\n",
       "      <td>NaN</td>\n",
       "      <td>NaN</td>\n",
       "      <td>NaN</td>\n",
       "      <td>NaN</td>\n",
       "      <td>NaN</td>\n",
       "    </tr>\n",
       "    <tr>\n",
       "      <th>1</th>\n",
       "      <td>NaN</td>\n",
       "      <td>NaN</td>\n",
       "      <td>NaN</td>\n",
       "      <td>NaN</td>\n",
       "      <td>NaN</td>\n",
       "      <td>NaN</td>\n",
       "      <td>NaN</td>\n",
       "      <td>NaN</td>\n",
       "      <td>NaN</td>\n",
       "      <td>NaN</td>\n",
       "      <td>...</td>\n",
       "      <td>NaN</td>\n",
       "      <td>NaN</td>\n",
       "      <td>NaN</td>\n",
       "      <td>NaN</td>\n",
       "      <td>NaN</td>\n",
       "      <td>NaN</td>\n",
       "      <td>NaN</td>\n",
       "      <td>NaN</td>\n",
       "      <td>NaN</td>\n",
       "      <td>NaN</td>\n",
       "    </tr>\n",
       "    <tr>\n",
       "      <th>2</th>\n",
       "      <td>Penrith Rugby League Club</td>\n",
       "      <td>NaN</td>\n",
       "      <td>NaN</td>\n",
       "      <td>NaN</td>\n",
       "      <td>NaN</td>\n",
       "      <td>NaN</td>\n",
       "      <td>NaN</td>\n",
       "      <td>NaN</td>\n",
       "      <td>NaN</td>\n",
       "      <td>NaN</td>\n",
       "      <td>...</td>\n",
       "      <td>NaN</td>\n",
       "      <td>NaN</td>\n",
       "      <td>NaN</td>\n",
       "      <td>NaN</td>\n",
       "      <td>NaN</td>\n",
       "      <td>NaN</td>\n",
       "      <td>NaN</td>\n",
       "      <td>NaN</td>\n",
       "      <td>NaN</td>\n",
       "      <td>NaN</td>\n",
       "    </tr>\n",
       "    <tr>\n",
       "      <th>3</th>\n",
       "      <td>31 October 2020 (A$'000))</td>\n",
       "      <td>NaN</td>\n",
       "      <td>NaN</td>\n",
       "      <td>NaN</td>\n",
       "      <td>NaN</td>\n",
       "      <td>NaN</td>\n",
       "      <td>NaN</td>\n",
       "      <td>NaN</td>\n",
       "      <td>NaN</td>\n",
       "      <td>NaN</td>\n",
       "      <td>...</td>\n",
       "      <td>NaN</td>\n",
       "      <td>NaN</td>\n",
       "      <td>NaN</td>\n",
       "      <td>NaN</td>\n",
       "      <td>NaN</td>\n",
       "      <td>NaN</td>\n",
       "      <td>NaN</td>\n",
       "      <td>NaN</td>\n",
       "      <td>NaN</td>\n",
       "      <td>NaN</td>\n",
       "    </tr>\n",
       "    <tr>\n",
       "      <th>4</th>\n",
       "      <td>Income Statement</td>\n",
       "      <td>0</td>\n",
       "      <td>NaN</td>\n",
       "      <td>NaN</td>\n",
       "      <td>NaN</td>\n",
       "      <td>Mgmt</td>\n",
       "      <td>NaN</td>\n",
       "      <td>Audited</td>\n",
       "      <td>NaN</td>\n",
       "      <td>Audited</td>\n",
       "      <td>...</td>\n",
       "      <td>NaN</td>\n",
       "      <td>NaN</td>\n",
       "      <td>NaN</td>\n",
       "      <td>NaN</td>\n",
       "      <td>NaN</td>\n",
       "      <td>NaN</td>\n",
       "      <td>NaN</td>\n",
       "      <td>NaN</td>\n",
       "      <td>NaN</td>\n",
       "      <td>NaN</td>\n",
       "    </tr>\n",
       "  </tbody>\n",
       "</table>\n",
       "<p>5 rows × 256 columns</p>\n",
       "</div>"
      ],
      "text/plain": [
       "                  Unnamed: 0 Unnamed: 1 Unnamed: 2 Unnamed: 3 Unnamed: 4  \\\n",
       "0                        NaN        NaN        NaN        NaN        NaN   \n",
       "1                        NaN        NaN        NaN        NaN        NaN   \n",
       "2  Penrith Rugby League Club        NaN        NaN        NaN        NaN   \n",
       "3  31 October 2020 (A$'000))        NaN        NaN        NaN        NaN   \n",
       "4           Income Statement          0        NaN        NaN        NaN   \n",
       "\n",
       "  Unnamed: 5  Unnamed: 6 Unnamed: 7  Unnamed: 8 Unnamed: 9  ...  Unnamed: 246  \\\n",
       "0        NaN         NaN        NaN         NaN        NaN  ...           NaN   \n",
       "1        NaN         NaN        NaN         NaN        NaN  ...           NaN   \n",
       "2        NaN         NaN        NaN         NaN        NaN  ...           NaN   \n",
       "3        NaN         NaN        NaN         NaN        NaN  ...           NaN   \n",
       "4       Mgmt         NaN    Audited         NaN    Audited  ...           NaN   \n",
       "\n",
       "  Unnamed: 247  Unnamed: 248 Unnamed: 249  Unnamed: 250 Unnamed: 251  \\\n",
       "0          NaN           NaN          NaN           NaN          NaN   \n",
       "1          NaN           NaN          NaN           NaN          NaN   \n",
       "2          NaN           NaN          NaN           NaN          NaN   \n",
       "3          NaN           NaN          NaN           NaN          NaN   \n",
       "4          NaN           NaN          NaN           NaN          NaN   \n",
       "\n",
       "  Unnamed: 252 Unnamed: 253  Unnamed: 254  Unnamed: 255  \n",
       "0          NaN          NaN           NaN           NaN  \n",
       "1          NaN          NaN           NaN           NaN  \n",
       "2          NaN          NaN           NaN           NaN  \n",
       "3          NaN          NaN           NaN           NaN  \n",
       "4          NaN          NaN           NaN           NaN  \n",
       "\n",
       "[5 rows x 256 columns]"
      ]
     },
     "execution_count": 5,
     "metadata": {},
     "output_type": "execute_result"
    }
   ],
   "source": [
    "df.head()"
   ]
  },
  {
   "cell_type": "code",
   "execution_count": 6,
   "id": "080b4e8f-d1c5-46c5-8953-ec4b0900aad0",
   "metadata": {},
   "outputs": [
    {
     "data": {
      "text/plain": [
       "2"
      ]
     },
     "execution_count": 6,
     "metadata": {},
     "output_type": "execute_result"
    }
   ],
   "source": [
    "df[df.iloc[:, 0].notnull()].index[0]"
   ]
  },
  {
   "cell_type": "code",
   "execution_count": 7,
   "id": "e7694fb3-1254-4f8c-8f0b-49c90d34b95a",
   "metadata": {},
   "outputs": [
    {
     "data": {
      "text/plain": [
       "2"
      ]
     },
     "execution_count": 7,
     "metadata": {},
     "output_type": "execute_result"
    }
   ],
   "source": [
    "first_non_null_index = df[df.iloc[:, 0].notnull()].index[0]\n",
    "first_non_null_index"
   ]
  },
  {
   "cell_type": "code",
   "execution_count": 8,
   "id": "4dbd83f5-bdb8-4161-84b9-17cee172ad64",
   "metadata": {},
   "outputs": [
    {
     "name": "stdout",
     "output_type": "stream",
     "text": [
      "Penrith Rugby League Club\n"
     ]
    }
   ],
   "source": [
    "company_name = df.iloc[first_non_null_index, 0]\n",
    "company_name\n",
    "print(company_name)"
   ]
  },
  {
   "cell_type": "code",
   "execution_count": 9,
   "id": "86aa13e8-c684-48e5-ac0d-ee34d8b25962",
   "metadata": {},
   "outputs": [
    {
     "name": "stdout",
     "output_type": "stream",
     "text": [
      "2023-09-20 13:29:11.872757\n"
     ]
    }
   ],
   "source": [
    "current_time = datetime.datetime.now()\n",
    "current_time\n",
    "print(current_time)"
   ]
  },
  {
   "cell_type": "code",
   "execution_count": 66,
   "id": "2614e8fc-a337-4a79-805e-1f4bdef14c05",
   "metadata": {},
   "outputs": [
    {
     "data": {
      "text/plain": [
       "{'ID': 1,\n",
       " 'CompanyName': 'Penrith Rugby League Club',\n",
       " 'Date': datetime.datetime(2023, 9, 20, 13, 29, 11, 872757)}"
      ]
     },
     "execution_count": 66,
     "metadata": {},
     "output_type": "execute_result"
    }
   ],
   "source": [
    "row_data = {\n",
    "    'ID': 1,  # Replace with the actual ID if available\n",
    "    'CompanyName': company_name,\n",
    "    'Date': current_time\n",
    "}\n",
    "row_data"
   ]
  },
  {
   "cell_type": "code",
   "execution_count": 67,
   "id": "8c600f3f-8b3b-4b90-b281-865a8dd52335",
   "metadata": {},
   "outputs": [
    {
     "data": {
      "text/html": [
       "<div>\n",
       "<style scoped>\n",
       "    .dataframe tbody tr th:only-of-type {\n",
       "        vertical-align: middle;\n",
       "    }\n",
       "\n",
       "    .dataframe tbody tr th {\n",
       "        vertical-align: top;\n",
       "    }\n",
       "\n",
       "    .dataframe thead th {\n",
       "        text-align: right;\n",
       "    }\n",
       "</style>\n",
       "<table border=\"1\" class=\"dataframe\">\n",
       "  <thead>\n",
       "    <tr style=\"text-align: right;\">\n",
       "      <th></th>\n",
       "      <th>ID</th>\n",
       "      <th>CompanyName</th>\n",
       "      <th>Date</th>\n",
       "    </tr>\n",
       "  </thead>\n",
       "  <tbody>\n",
       "    <tr>\n",
       "      <th>0</th>\n",
       "      <td>1</td>\n",
       "      <td>Penrith Rugby League Club</td>\n",
       "      <td>2023-09-20 13:29:11.872757</td>\n",
       "    </tr>\n",
       "  </tbody>\n",
       "</table>\n",
       "</div>"
      ],
      "text/plain": [
       "  ID                CompanyName                        Date\n",
       "0  1  Penrith Rugby League Club  2023-09-20 13:29:11.872757"
      ]
     },
     "execution_count": 67,
     "metadata": {},
     "output_type": "execute_result"
    }
   ],
   "source": [
    "test_df = pd.DataFrame.from_dict(row_data, orient='index').T\n",
    "test_df"
   ]
  },
  {
   "cell_type": "code",
   "execution_count": 68,
   "id": "9e69c6f9-6330-48be-b83d-1173c0507ace",
   "metadata": {},
   "outputs": [
    {
     "name": "stdout",
     "output_type": "stream",
     "text": [
      "{'ID': 1, 'CompanyName': 'Penrith Rugby League Club', 'Date': datetime.datetime(2023, 9, 20, 13, 29, 11, 872757)}\n",
      "0\n"
     ]
    }
   ],
   "source": [
    "for _, row in test_df.iterrows():\n",
    "    print( row.to_dict())\n",
    "    print(_)"
   ]
  },
  {
   "cell_type": "code",
   "execution_count": 64,
   "id": "88b82b06-7cb5-46b6-be89-8690546b2f54",
   "metadata": {},
   "outputs": [],
   "source": [
    "        row_data = {\n",
    "            'ID': [2,3,4],  # Replace with the actual ID if available\n",
    "            'CompanyName': [company_name,company_name,company_name],\n",
    "            'Date': [current_time,current_time,current_time]\n",
    "            }"
   ]
  },
  {
   "cell_type": "code",
   "execution_count": 65,
   "id": "ae3c5aa9-cf9c-42e6-94cb-a68c6083fc02",
   "metadata": {},
   "outputs": [
    {
     "data": {
      "text/html": [
       "<div>\n",
       "<style scoped>\n",
       "    .dataframe tbody tr th:only-of-type {\n",
       "        vertical-align: middle;\n",
       "    }\n",
       "\n",
       "    .dataframe tbody tr th {\n",
       "        vertical-align: top;\n",
       "    }\n",
       "\n",
       "    .dataframe thead th {\n",
       "        text-align: right;\n",
       "    }\n",
       "</style>\n",
       "<table border=\"1\" class=\"dataframe\">\n",
       "  <thead>\n",
       "    <tr style=\"text-align: right;\">\n",
       "      <th></th>\n",
       "      <th>ID</th>\n",
       "      <th>CompanyName</th>\n",
       "      <th>Date</th>\n",
       "    </tr>\n",
       "  </thead>\n",
       "  <tbody>\n",
       "    <tr>\n",
       "      <th>0</th>\n",
       "      <td>2</td>\n",
       "      <td>Penrith Rugby League Club</td>\n",
       "      <td>2023-09-20 13:29:11.872757</td>\n",
       "    </tr>\n",
       "    <tr>\n",
       "      <th>1</th>\n",
       "      <td>3</td>\n",
       "      <td>Penrith Rugby League Club</td>\n",
       "      <td>2023-09-20 13:29:11.872757</td>\n",
       "    </tr>\n",
       "    <tr>\n",
       "      <th>2</th>\n",
       "      <td>4</td>\n",
       "      <td>Penrith Rugby League Club</td>\n",
       "      <td>2023-09-20 13:29:11.872757</td>\n",
       "    </tr>\n",
       "  </tbody>\n",
       "</table>\n",
       "</div>"
      ],
      "text/plain": [
       "  ID                CompanyName                        Date\n",
       "0  2  Penrith Rugby League Club  2023-09-20 13:29:11.872757\n",
       "1  3  Penrith Rugby League Club  2023-09-20 13:29:11.872757\n",
       "2  4  Penrith Rugby League Club  2023-09-20 13:29:11.872757"
      ]
     },
     "execution_count": 65,
     "metadata": {},
     "output_type": "execute_result"
    }
   ],
   "source": [
    "test_df = pd.DataFrame.from_dict(row_data, orient='index').T\n",
    "test_df"
   ]
  },
  {
   "cell_type": "code",
   "execution_count": 40,
   "id": "38b2ea1b-e211-4946-8de5-eeb2c3f80a23",
   "metadata": {},
   "outputs": [
    {
     "data": {
      "text/plain": [
       "<zip at 0x145c5c2c0>"
      ]
     },
     "execution_count": 40,
     "metadata": {},
     "output_type": "execute_result"
    }
   ],
   "source": [
    "test_df.dtypes.items()"
   ]
  },
  {
   "cell_type": "code",
   "execution_count": 63,
   "id": "44758828-8089-4e14-8cab-7edd74219dc9",
   "metadata": {},
   "outputs": [
    {
     "name": "stdout",
     "output_type": "stream",
     "text": [
      "[{'name': 'number', 'type': 'INTEGER'}, {'name': 'name', 'type': 'STRING'}, {'name': 'date', 'type': 'TIMESTAMP'}, {'name': 'value', 'type': 'FLOAT'}, {'name': 'boolean', 'type': 'BOOLEAN'}]\n"
     ]
    }
   ],
   "source": [
    "bq_schema = pandas_dataframe_to_bq_schema(new_df)\n",
    "print(bq_schema)"
   ]
  },
  {
   "cell_type": "code",
   "execution_count": null,
   "id": "158aa730-cd4e-4e43-a3da-8d85fb6151d2",
   "metadata": {},
   "outputs": [],
   "source": []
  },
  {
   "cell_type": "code",
   "execution_count": 41,
   "id": "a1dc8630-451a-4883-bc20-159597a3f46d",
   "metadata": {},
   "outputs": [],
   "source": [
    "import pandas as pd\n",
    "\n",
    "def pandas_dataframe_to_bq_schema(df):\n",
    "    \"\"\"\n",
    "    Create a BigQuery schema from a Pandas DataFrame.\n",
    "\n",
    "    Parameters:\n",
    "    df (pd.DataFrame): The DataFrame for which you want to generate a BigQuery schema.\n",
    "\n",
    "    Returns:\n",
    "    list: A list of dictionaries representing the BigQuery schema.\n",
    "    \"\"\"\n",
    "    bq_schema = []\n",
    "\n",
    "    for column_name, dtype in df.dtypes.items():\n",
    "        field_type = None\n",
    "\n",
    "        if dtype == 'int64':\n",
    "            field_type = 'INTEGER'\n",
    "        elif dtype == 'float64':\n",
    "            field_type = 'FLOAT'\n",
    "        elif dtype == 'bool':\n",
    "            field_type = 'BOOLEAN'\n",
    "        elif dtype == 'datetime64[ns]':\n",
    "            field_type = 'TIMESTAMP'\n",
    "        elif dtype == 'object':\n",
    "            field_type = 'STRING'\n",
    "\n",
    "        if field_type:\n",
    "            bq_schema.append({'name': column_name, 'type': field_type})\n",
    "\n",
    "    return bq_schema\n"
   ]
  },
  {
   "cell_type": "code",
   "execution_count": null,
   "id": "3d864c3f-e24b-47c7-8d30-5ba62c35bae8",
   "metadata": {},
   "outputs": [],
   "source": []
  }
 ],
 "metadata": {
  "kernelspec": {
   "display_name": "surity-etl-pipeline",
   "language": "python",
   "name": "surity-etl-pipeline"
  },
  "language_info": {
   "codemirror_mode": {
    "name": "ipython",
    "version": 3
   },
   "file_extension": ".py",
   "mimetype": "text/x-python",
   "name": "python",
   "nbconvert_exporter": "python",
   "pygments_lexer": "ipython3",
   "version": "3.9.18"
  }
 },
 "nbformat": 4,
 "nbformat_minor": 5
}
